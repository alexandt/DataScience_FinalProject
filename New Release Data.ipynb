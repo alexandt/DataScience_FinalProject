{
 "cells": [
  {
   "cell_type": "code",
   "execution_count": 1,
   "metadata": {},
   "outputs": [],
   "source": [
    "from bs4 import BeautifulSoup as bs\n",
    "from requests import get"
   ]
  },
  {
   "cell_type": "code",
   "execution_count": 2,
   "metadata": {},
   "outputs": [],
   "source": [
    "#the metacritic data seemed to be prevented from getting scraped for some reason so I used a different website\n",
    "url = \"https://consequenceofsound.net/upcoming-releases/\""
   ]
  },
  {
   "cell_type": "code",
   "execution_count": 3,
   "metadata": {},
   "outputs": [],
   "source": [
    "response = get(url)\n",
    "#print(response.text[:500])"
   ]
  },
  {
   "cell_type": "code",
   "execution_count": 4,
   "metadata": {},
   "outputs": [],
   "source": [
    "html_soup = bs(response.text, 'html.parser')"
   ]
  },
  {
   "cell_type": "code",
   "execution_count": 5,
   "metadata": {},
   "outputs": [],
   "source": [
    "#<p style=\"padding-left:30px;\">\n",
    "html_albums = html_soup.find_all('p', style=\"padding-left:30px;\")"
   ]
  },
  {
   "cell_type": "code",
   "execution_count": 12,
   "metadata": {},
   "outputs": [
    {
     "data": {
      "text/plain": [
       "'Speak Your Mind'"
      ]
     },
     "execution_count": 12,
     "metadata": {},
     "output_type": "execute_result"
    }
   ],
   "source": [
    "html_albums[0].em.text"
   ]
  },
  {
   "cell_type": "code",
   "execution_count": 21,
   "metadata": {},
   "outputs": [
    {
     "name": "stdout",
     "output_type": "stream",
     "text": [
      "[('Anna-Marie', 'Speak Your Mind'), ('Anthrax', 'Kings Among Scotland'), ('The Armed', 'Only Love'), ('Bart Davenport', 'Blue Motel'), ('The Beat Escape', 'Life Is Short The Answer’s Long'), ('Beth Nielsen Chapman', 'Hearts of Glass'), ('Blossoms', 'Cool Like You'), ('Bossie', 'Not Pictured'), ('DMA’s', 'For Now'), ('Don Gallardo', 'Still Here'), ('Dr. Dog', 'Critical Equation'), ('Foreigner', 'Foreigner with the 21st Century Symphony Orchestra & Chorus'), ('Forth Wanderers', 'Forth Wanderers'), ('God Is An Astronaut', 'Epitaph'), ('Godsmack', 'When Legends Rise'), ('Grouper', 'Grid of Points'), ('Half Waif', 'Lavender'), ('Hawthorne Heights', 'Bad Frequencies'), ('Janelle Monáe', 'Dirty Computer'), ('Jessie Baylin', 'Strawberry Wind'), ('Kid Koala', 'Floor Kids Original Video Game Soundtrack'), ('Matt Maeson', 'The Hearse EP'), ('Okkervil River', 'In the Rainbow Road'), ('Paul White', 'Rejuvenate'), ('Poo Bear', 'Poo Bear Presents Bearthday Music'), ('Scream (feat. Dave Grohl)', 'NMC17 (No More Censorship)'), ('Skindred', 'Big Tings'), ('Speedy Ortiz', 'Twerp Verse'), ('Steve Angello', 'Human'), ('Twin Shadow', 'Caer'), ('We Are Scientists', 'Megaplex'), ('Willie Nelson', 'Last Man Standing'), ('Twilight (feat. Thurston Moore)', 'Trident Death Rattle EP\\xa0'), ('Belly', 'DOVE'), ('Benjamin Lazar Davis', 'Nothing Matters'), ('Big Sam’s Funky Nation', '\\xa0Songs in the Key of Funk'), ('Birds of Chicago', 'Love in Wartime'), ('Black Moth Super Rainbow', 'Panic Blooms'), ('Brian Eno', 'Music For Installations'), ('Cuco', 'Chiquito EP'), ('Cut Worms', 'Hollow Ground'), ('Dada Life', 'Our Nation'), ('Damien Jurado', 'The Horizon Just Laughed'), ('Daniel Blumberg', 'Minus'), ('DJ Koze', 'Knock Knock'), ('Eleanor Friedberger', 'Rebound'), ('Eternal Summers', 'Every Day It Feels I’m Dying…'), ('FAN (Meric Long of The Dodos)', 'Barton’s Den'), ('Frank Turner', 'Be More Kind'), ('Gaz Coombes (of Supergrass)', 'World’s Strongest Man'), ('The Glitch Mob', 'See Without Eyes'), ('The Goldberg Sisters', 'HOME: A Nice Place To Visit'), ('Harry Permezel', 'Wax Man'), (' High Sunn', 'Missed Connections'), ('Horse Feathers', 'Appreciation'), ('Iceage', 'Beyondless'), ('Jack Ladder & The Dreamlanders', 'Blue Poles'), ('Jessica Risker', '\\xa0I See You Among The Stars'), ('Johnny Yukon', 'Installation I'), ('JOHNNYSWIM', 'Goodbye Road'), ('Jon Hopkins', 'Singularity'), ('Lake Street Dive', 'Free Yourself Up'), ('Leftover Salmon', 'Something Higher'), ('Leon Bridges', ' Good Thing'), ('Liz Phair', 'Girly-Sound to Guyville: The 25th Anniversary Box Set'), ('Mat Kearney', 'CRAZYTALK'), ('Mating Ritual', 'Light Myself On Fire'), ('Middle Kids', 'Lost Friends'), ('Mount Kimbie', 'Love What Survives Remixes Part 1'), ('Parker Millsap', 'Other Arrangements'), ('Parkway Drive', 'Reverence'), ('Rachel Sage', 'Myopia'), ('Reuben and the Darks', 'Arms of a Dream'), (' RF Shannon', 'Trickster Blues'), ('Royce 5’9″', 'Book of Ryan'), ('Shakey Graves', 'Can’t Wake Up'), ('Shinedown', 'Attention Attention'), ('Shonen Knife', 'Alive! In Osaka'), ('Skating Polly', 'The Make It All Show'), ('Styles P (of The Lox)', 'G-Host'), ('Sugar Candy Mountain', ' Do Right'), ('Trampled By Turtles', 'Life Is Good On The Open Road'), ('Traveller (Robert Ellis, Cory Chisel, and Jonny Fritz)', 'Western Movies'), ('Venetian Snares', 'Venetian Snares x Daniel Lanois'), ('Vive la Void (Moon Duo’s Sanae Yamada)', 'Vive la Void'), ('When Saints Go Machine', 'It’s A Mad Love EP'), ('WOLVHAMMER', 'The Monuments Of Ash & Bone'), ('Yeek', 'Blackheart EP'), ('Yonatan Gat', 'Universalists'), ('Aborted Fetus', 'The Ancient Spirits Of Decay'), ('Aïsha Devi', 'DNA Feelings'), ('Arctic Monkeys', 'Tranquility Base Hotel & Casino'), ('Ashley Campbell', 'The Lonely One'), ('Beach House', '7'), ('Beatrice Deer', 'My All To You'), ('Benjamin Jaffe', 'Oh, Wild Ocean of Love'), ('Bladee', 'Red Light'), ('The Body', 'I Have Fought Against It, But I Can’t Any Longer'), ('Boys', 'Rest in Peace'), ('Brent Cobb', 'Providence Canyon'), ('Fascinator', 'Water Sign'), (' Gold Connections', 'Popular Fiction'), ('Haleek Maul', 'In Permanence EP'), ('Hit Bargain (feat. members of\\xa0The Pains of Being Pure at Heart, Cold Beat, North Highlands and Beach Fossils)', 'Potential Maximizer'), ('Jean-Michel Blais', 'Dans ma main'), ('Jeff Ament (of Pearl Jam)', 'Heaven/Hell'), ('Jerry Garcia', 'Before the Dead'), ('John Mellencamp', 'Plain Spoken: From The Chicago Theatre'), ('Junglepussy', 'JP3'), ('Kassin', 'Relax'), ('La Luz', 'Floating Features\\xa0'), ('Las Rosas', 'Shadow By Your Side'), (' Loreena McKennitt', 'Lost Souls'), ('The Magic Numbers', 'Outsiders'), ('Marian Hill', 'Unusual'), ('Mark Kozelek', 'Mark Kozelek'), ('Marmalakes', 'Please Don’t Stop'), (' Mason Jennings', 'Songs For When We Met'), ('Mount Kimbie', 'Love What Survives Remixes Part 2'), ('Ornette Coleman', 'Ornette Coleman: The Atlantic Years'), ('Red Hare', 'Little Acts of Destruction'), (' Ry Cooder', 'The Prodigal Son'), ('Sarah Louise', 'Deeper Woods'), ('Sarah Mary Chadwick', 'Sugar Still Melts In The Rain'), ('The Sea and the Cake', 'Any Day'), ('Sean McGowan', 'Son of the Smith'), ('Sevendust', 'All I See Is War'), ('Simian Mobile Disco', 'Murmurations'), ('Skinless', 'Savagery'), ('SSION', 'O'), ('Strung Out', 'Black Out The Sky EP'), ('Tee Grizzley', 'Activated'), ('Tom Waits', 'The Heart of Saturday Night'), ('Tom Waits', 'Nighthawks at the Diner'), ('Yours Are The Only Ears', 'Knock Hard'), ('A. Wesley Chung', 'Neon Coast'), ('Arcadian Child', 'Afterglow'), ('Ash', 'Islands'), ('Bad Wolves', 'Disobey'), ('Barry Walker', 'Diaspora Urkontinent'), ('Big Ups', 'Two Parts Together'), ('Bombino', 'Deran'), ('The Breeders', 'Last Splash'), ('The Breeders', 'Mountain Battles'), ('The Breeders', 'Pod'), ('The Breeders', 'Title TK'), ('Buck Meek (of Big Thief)', 'Buck Meek'), ('Burn the Priest (Lamb of God)', 'Legion: XX'), ('Charles Watson (of Slow Club)', 'Now That I’m A River'), ('Courtney Barnett', 'Tell Me How You Really Feel'), ('The Dead Tongues', 'Unsung Passage'), ('Drama', 'Lies After Love EP'), ('Family of the Year', 'Goodbye Sunshine, Hello Nighttime'), ('Fatoumata Diawara', 'Fenfo (Something to Say)'), ('Five Finger Death Punch', 'And Justice For None'), ('Forest Swords', 'DJ-Kicks'), ('Frog Eyes', 'Violent Psalms'), ('The Front Bottoms', 'Ann EP'), ('GAS', 'Rausch'), ('Harrison Lipton', 'Loveliness'), ('High Priestess', 'High Priestess'), ('James Bay', 'Electric Light'), ('Jennifer Castle', 'Angels of Death'), ('Joe Bonamassa', 'British Blues Explosion Live!'), ('John Maus', 'Addendum'), ('Jonny Greenwood (of Radiohead)', 'Bodysong'), ('Kelly Willis', 'Back Being Blue'), ('Kevlar', 'Aftermath EP'), (' King Diamond', 'Abigail'), ('King Diamond', 'Fatal Portrait'), ('King Diamond', 'Them'), ('KYLE', 'Light of Mine'), ('Lenny Kravitz', 'Greatest Hits'), ('Low Cut Connie', 'Dirty Pictures (Part 2)'), ('Mamas Gun', 'Golden Days'), ('Mary Lattimore', 'Hundreds of Days'), ('Matt Costa', 'Santa Rosa Fangs'), ('Matthew Sweet', 'Tomorrow’s Daughter'), ('MC Paul Barman', '(((echo chamber)))'), ('Michael Rault', 'It’s A New Day Tonight'), ('MIGHTY', 'MIGHTY'), ('Nellie McKay', 'Sister Orchid'), ('Nihil Eyes', 'Black Path'), ('Now, Now', 'Saved'), ('Otis Redding', 'Dock Of The Bay Sessions\\xa0'), ('Overkill', '\\xa0Live In Overhausen'), ('Parquet Courts', 'Wide Awake!'), ('Patrick Paige (of The Internet)', 'Letters Of Irrelevance'), ('Paul McCartney', 'Chaos and Creation in the Backyard'), ('Paul McCartney', 'New'), ('Paul McCartney', 'Thrillington'), ('Paul McCartney', 'Wings Greatest'), ('Pema (Alex Cohen of Alex Napping)', 'Bad Habits'), ('The Presets', 'HI VIZ'), ('Quiet Slang (Beach Slang’s James Alex)', 'Everything Matters But No One Is Listening'), ('Rachel Grimes', 'The Doctor From India: Original Motion Picture Soundtrack'), ('The Ramona Flowers', 'Strangers'), ('Ray LaMontagne', 'Part of the Light'), ('Ric Wilson', 'BANBA EP'), ('Ryley Walker', 'Deafman Glance'), ('Sarah Mary Chadwick', 'Sugar Still Melts In The Rain'), ('Screamin’ Jay Hawkins', 'Are YOU One of Jay’s Kids?'), ('The Sidekicks', 'Happiness Hours'), ('Stephen Malkmus and the Jicks', 'Sparkle Hard'), ('Steve Miller Band', 'Complete Albums Volume 1 (1968-1976)'), ('TT (Warpaint’s Theresa Wayman)', 'LoveLaws'), ('Various Artists', 'Mean Girls (Original Broadway Cast Recording)'), ('Wax Chattels', 'Wax Chattels'), ('Wax Idols', 'Happy Ending'), ('West Thebarton', 'Different Beings Being Different'), ('Wire', '154'), ('Wire', 'Chairs Missing'), ('Wire', 'Pink Flag'), ('Wussy', 'What Heaven Is Like'), ('Xavier Dunn', 'Isic Tutor EP'), (' Ziggy Marley', 'Rebellion Rises'), ('Actress', 'LAGEOS'), ('Agnes Obel', 'Late Night Tales'), ('Aisha Burns', 'Argonauta'), ('Andrew Duhon', 'False River'), ('Ari Roar', 'Calm Down'), ('Bad Times (feat. Jay Reatard)', 'Streets of Iron'), ('Bernice', 'Puff LP: In the air without a shape'), ('Bleeding Through', ' Love Will Kill All'), ('Biffy Clyro', 'MTV Unplugged: Live At Roundhouse London'), ('Chad Valley', 'Imaginary Music'), ('Christ on Parade', 'A Mind Is A Terrible Thing'), ('CHVRCHES', 'Love Is Dead'), ('Clairo', 'diary 001 EP'), ('Clap Your Hands Say Yeah', 'Some Loud Thunder'), ('Dear Nora', 'Skulls Example'), ('Deeper', 'Deeper'), ('Del McCoury Band', '\\xa0Del McCoury Still Sings Bluegrass'), ('Destroyer', 'City of Daughters'), ('Destroyer', 'Thief'), ('The Flaming Lips', 'Seeing the Unseeable: The Complete Studio Recordings of The Flaming Lips: 1986-1990'), ('Graveyard', 'Peace'), ('Halo Maud', 'Je Suis Une île'), ('The Hands Free', 'The Hands Free'), ('Hatchie', 'Sugar & Spice EP'), ('Hoobastank', 'Push Pull'), ('Inner Tongues', 'Favours'), ('Jenny Hval', 'The Long Sleep EP'), ('Jeremy Enigk (of Sunny Day in Real Estate)', 'Return of the Frog Queen'), ('Jethro Tull', '50 For 50'), ('Jethro Tull', '50th Anniversary Hits'), ('Jo Passed', 'Their Prime'), ('Jonathan Davis (of Korn)', 'Black Labyrinth'), ('Kaada', 'Closing Statements'), ('Lamont Dozier', 'Reimagination'), ('Lean', 'Years'), (' Lindi Ortega', 'Liberty'), ('Michael Vallera', 'All Perfect Days'), ('MIKE', 'Black Soap'), ('Neuorsis', 'Pain of Mind'), ('Peach Kelli Pop', 'Gentle Leader'), ('Ruler', 'Winning Star Champion'), ('Shawn Mendes', 'Shawn Mendes'), ('Shy Layers', 'Midnight Marker'), ('Snow Patrol', 'Wildness'), ('Sudan Archives', 'Sink EP'), ('Thunderpussy', 'Thunderpussy'), ('Tracyanne Campbell (Camera Obscura) and Danny Coughlan (Crybaby)', 'Tracyanne & Danny'), ('The Travelin’ McCourys', 'The Travelin’ McCourys'), ('Wand', 'Perfume EP'), ('Weezer', 'The Black Album'), ('Wilderado', 'Favors EP'), ('Wooden Shjips', 'V.'), ('Wound Collector', 'Eternal Bloodcult'), ('Albin Lee Meldau', 'About You'), ('American Aquarium', 'Things Change'), ('Beach Skulls', 'Las Dunas'), ('Ben Howard', 'Noonday Dream'), ('Big Freedia', 'Third Ward Bounce EP'), ('BODEGA', 'Endless Scroll'), ('Cheap Trick', 'The Epic Archive Vol. 2 (1980-1983)'), ('The Coathangers', 'Live'), ('Cold Cave', 'You & Me & Infinity EP'), ('Dave Alvin', 'Downey to Lubbock\\xa0'), ('Def Leppard', 'Volume One\\xa0'), ('Emmylou Harris', 'The Ballad of Sally Rose'), ('Father John Misty', 'God’s Favorite Customer\\xa0'), ('The Flaming Lips', 'Greatest Hits Vol. 1\\xa0'), ('Freedom Fry', 'Classic'), ('Ghost', 'Prequelle'), ('Golden Dawn Arkestra', 'Children of the Sun'), ('Jamie Isaac', '(04:30) Idler'), ('Joan of Arc', '1984'), ('Juliana Daugherty', 'Light'), ('LUMP (Laura Marling and Mike Lindsay)', 'LUMP'), ('MANIAC', 'Dead Dance Club'), ('Maps & Atlases', 'Lightlessness is Nothing New'), (' Mazzy Star', ' Still EP'), ('Modeselektor', 'Modeselektion Vol. 04'), ('MONA', 'Soldier On'), ('Natalie Prass', 'The Future and the Past'), ('Neko Case', 'Hell-On'), ('Nicki Bluhm', 'To Rise You Gotta Fall'), ('Okay Kaya', 'Both'), ('Oneohtrix Point Never', 'Age Of'), ('Patrick Higgins', 'Dossier'), ('Paul McDonald', 'Modern Hearts'), ('Pete Yorn', 'Apart EP'), ('Phil Cook', 'People Are My Drug'), ('The Quick', 'Mondo Deco'), ('Richard Edwards', 'Verdugo'), ('Roger Daltrey (of The Who)', 'As Long As I Have You'), ('Ruen Brothers', 'All My Shades of Blue'), ('Sam Evian', 'You, Forever'), ('Sons Of An Illustrious Father', 'Deus Sex Machina: Or, Moving Slowly Beyond Nikola Tesla'), ('Slapshot', 'Make America Hate Again'), ('Tancred', 'Nightstand'), ('Tiny Stills', 'Laughing Into the Void'), ('Whitechapel', 'This Is Exile'), ('ZZ Top', 'Cinco No. 2: The Second Five LPs\\xa0'), ('Angélique Kidjo', 'Remain in Light'), ('Black Sabbath', 'Supersonic Years The Seventies Singles Box Set'), ('Claptone', 'Fantast'), ('Colin Stetson', 'Hereditary: Original Motion Picture Soundtrack'), ('Dance Gavin Dance', 'Artificial Selection'), ('Dave Matthews Band', 'Come Tomorrow'), ('Devin Townsend Project', 'Eras – Vinyl Collection Part I'), ('Dierks Bentley', 'The Mountain'), ('Eartheater', 'IRISIRI'), ('Erin Rae', 'Putting on Airs'), ('Flasher', 'Constant Image'), ('The Get Up Kids', 'Kicker EP'), ('gobbinjr', 'manalang'), ('Hilary Woods', 'Colt'), ('Howlin Rain', 'The Alligator Bride'), ('Jesse Dayton', 'The Outsider'), ('Jon Hassell', 'Listening To Pictures (Pentimento Volume 1)'), ('Jorja Smith', ' Lost & Found'), ('Kadhja Bonet', 'Childqueen'), ('Kids See Ghosts (Kanye West and Kid Cudi)', 'Kids See Ghosts'), ('Kiefer', 'Happysad'), ('Lily Allen', 'No Shame'), ('Lykke Li', 'so sad so sexy'), ('Mick Ronson', 'Beside Bowie: The Mick Ronson Story, The Soundtrack\\xa0'), ('Miles Kane', 'Coup De Grace'), ('Ne-Yo', 'Good Man'), ('Pllush', 'Stranger to the Pain'), ('River Whyless', 'Kindness, A Rebel'), ('serpentwithfeet', 'soil'), ('Sheppard', 'Watching the Sky'), ('Snail Mail', 'Lush'), ('Sugarland', 'Bigger'), ('Thee Hypnotics', 'Righteously Recharged'), ('Tom Waits', 'Small Change'), ('Treya Lam', 'Good News'), ('Welshly Arms', 'No Place Is Home'), ('Yob', 'Our Raw Heart'), ('Young Widows', 'DECAYED: Ten Years of Cities, Wounds, Lightness, and Pain'), ('Andy Jenkins', 'Sweet Bunch'), ('Arthur Buck (Joseph Arthur and Peter Buck)', 'Arthur Buck'), ('ASG', 'Survive Sunrise'), ('Ben Caplan', 'Old Stock'), ('Benin City', 'Last Night'), ('Brian Chase (of Yeah Yeah Yeahs)', 'Drums and Drones: Decade'), ('Calpurnia (feat. Finn Wolfhard of Stranger Things)', 'Stranger Things'), ('Chromeo', 'Head Over Heels'), ('Culture Abuse', 'Bay Dream'), ('The Cure', 'Mixed Up (Deluxe Edition)'), ('The Cure', 'Torn Down: Mixed Up Extras 2018'), ('Daphne Guinness', 'Daphne & The Golden Chord'), ('The Darkness', 'The Darkness – Live At Hammersmith'), ('Dead Girls Academy', 'Alchemy'), ('The English Beat', 'Here We Go'), ('Fantastic Negrito', 'Please Don’t Be Dead'), ('Gene Clark (of The Byrds)', 'The Rose Garden — A Trip Through the Garden: The Rose Garden Collection'), ('Gene Clark (of The Byrds)', 'Gene Clark Sings for You'), ('Girls Names', 'Stains on Silence'), ('Immersion (Wire’s Colin Newman & Malka Spigel)', 'Sleepless'), ('John Parish', 'Bird Dog Dante'), ('Johnny Marr', 'Call the Comet'), ('Kevin Krauter', 'Toss Up'), ('The Killers', 'The Killers Career Vinyl Box'), ('Leon Vynehall', 'Nothing Is Still'), ('Lizzy Borden', 'My Midnight Things'), ('Marisa Anderson', 'Cloud Corner'), ('Melody’s Echo Chamber', 'Bon Voyage'), ('Mourn', 'Sorpresa Familia'), ('Orange Goblin', 'The Wolf Bites Back'), ('Palberta', 'Roach Goin’ Down'), ('Petal', 'Magic Gone'), ('Rebelution', 'Free Rein'), ('Rolling Blackouts Costal Fever', 'Hope Downs'), ('The Rolling Stones', 'The Studio Albums Vinyl Collection 1971-2016'), ('Sepultura', 'Arise (Deluxe Edition)'), ('State Champs', 'Living Proof'), ('Stuart A. Staples (of Tindersticks)', 'Arrhythmia'), ('Tangents', 'New Bodies'), ('Various Artists', 'Mean Girls (Original Broadway Cast Recording)'), ('Welles', 'Red Trees and White Trashes'), ('Yuno', 'Moodie'), ('5 Seconds to Summer', 'Youngblood'), ('Bebe Rexha', 'Expectations'), (' The Blood Choir', 'Houses of the Sun'), ('CRAFT', 'White Noise and Black Metal'), ('Dawes', 'Passwords'), ('Gang Gand Dance', 'Kazuashita'), ('Garbage', 'Version 2.0'), ('Hatchet', 'Dying to Exist'), ('Jack River', 'Sugar Mountain'), ('James Williamson and the Pink Hearts', 'Behind the Shade'), ('Jeffrey Foucault', 'Blood Brothers'), ('Jill Barber', 'Metaphora'), ('Kamasi Washington', 'Heaven and Earth'), ('KHEMMIS', 'Desolation'), (' MARDUK', 'Viktoria'), ('The Orb', 'No Sounds Are Out of Bounds'), ('Panic at the Disco', 'Pray For The Wicked'), ('Paul Rodgers', 'Paul Rodgers – Free Spirit – Celebrating The Music of Free'), ('The Record Company', 'All Of This Life'), ('Soulwax', 'Essential'), ('Stella Donnelly', 'Thrush Metal EP'), ('Street Dogs', 'Stand for Something or Die for Nothing'), ('T. Hardy Morris', 'Dude, the Oscure'), ('Taleen Kali', ' Soul Songs'), ('TSOL', 'Live at The Observatory'), ('Vacationer', 'Mindset'), ('White Ring', 'Gate of Grief'), ('Wire', '154'), ('Wire', 'Chairs Missing'), ('Wire', 'Pink Flag'), ('Wolfen Reloaded', 'Changing Time'), ('Yukon Blonde', 'Critical Hit'), ('A Delicate Motor', 'Fellover My Own'), ('Bullet For My Valentine', 'Gravity'), ('Elle Belle', 'No Signal'), ('The Essex Green', 'Hardly Electronic'), ('Hana Vu', 'How Many Times Have You Driven By EP'), ('The Innocence Mission', 'Sun on the Square'), ('Jim James (of My Morning Jacket)', 'Uniform Distortion'), ('Let’s Eat Grandma', 'I’m All Ears'), ('The Milk Carton Kids', 'All The Things That I Did And All The Things That I Didn’t Do'), ('The Rock*A*Teens', 'Sixth House'), ('The Rubens', 'LO LA RU'), ('Social Distortion', 'Live At the Roxy'), ('Tropics', 'Nocturnal Souls'), ('DevilDriver', 'Outlaws ‘Til the End'), ('Lucifer', 'Lucifer II'), ('The Nude Party', 'The Nude Party'), ('Secret Cutter', 'Quantum Eraser'), ('Years & Years', 'Palo Santo'), ('AHI', 'In Our Time'), ('Beak>', '>>'), ('Beak>', 'Beak>'), ('Chasity', 'Death Lust'), ('Deafheaven', 'Ordinary Corrupt Human Love'), ('Grateful Dead', 'Anthem of the Sun: 50th Anniversary Deluxe Edition'), ('Lotic', 'Power'), ('LYDIA', 'Liquor'), ('The Suffers', 'Everything Here'), ('Tom Waits', 'Foreign Affairs'), ('Meg Myers', 'Take Me To The Disco'), ('Scars on Broadway (System of a Down’s Daron Malakian)', 'Dictator'), ('Skeletonwitch', 'Devouring Radiant Light'), ('Amanda Shires', 'To the Sunset'), ('Man With A Mission', 'Chasing the Horizon'), ('Sinsaenum', 'Repulsion For Humanity'), ('Tom Waits', 'Blue Valentine'), ('Great Lake Swimmers', 'The Waves, The Wake'), ('Conan', 'Existential Void Guardian'), ('Carrie Underwood', 'Cry Pretty'), ('Tom Waits', 'Heart Attack and Vine'), ('Los Campesinos!', 'Hold On Now, Youngster…'), ('Los Campesinos!', 'We Are Beautiful, We Are Doomed')]\n"
     ]
    }
   ],
   "source": [
    "albums=[]\n",
    "\n",
    " \n",
    "for a in html_albums:\n",
    "\n",
    "    if a.em:\n",
    "        artist = a.strong.text\n",
    "        alb = a.em.text\n",
    "        albums.append((artist, alb))\n",
    "\n",
    "\n",
    "        \n",
    "        \n",
    "print(albums)"
   ]
  },
  {
   "cell_type": "code",
   "execution_count": null,
   "metadata": {},
   "outputs": [],
   "source": []
  }
 ],
 "metadata": {
  "kernelspec": {
   "display_name": "Python 3",
   "language": "python",
   "name": "python3"
  },
  "language_info": {
   "codemirror_mode": {
    "name": "ipython",
    "version": 3
   },
   "file_extension": ".py",
   "mimetype": "text/x-python",
   "name": "python",
   "nbconvert_exporter": "python",
   "pygments_lexer": "ipython3",
   "version": "3.6.4"
  }
 },
 "nbformat": 4,
 "nbformat_minor": 2
}
